{
  "nbformat": 4,
  "nbformat_minor": 0,
  "metadata": {
    "colab": {
      "name": "codwars 2.ipynb",
      "provenance": [],
      "authorship_tag": "ABX9TyPpGUCBn53e5wVH2ijTp6yM",
      "include_colab_link": true
    },
    "kernelspec": {
      "name": "python3",
      "display_name": "Python 3"
    }
  },
  "cells": [
    {
      "cell_type": "markdown",
      "metadata": {
        "id": "view-in-github",
        "colab_type": "text"
      },
      "source": [
        "<a href=\"https://colab.research.google.com/github/qazalkz/codewars-python/blob/master/codwars_2.ipynb\" target=\"_parent\"><img src=\"https://colab.research.google.com/assets/colab-badge.svg\" alt=\"Open In Colab\"/></a>"
      ]
    },
    {
      "cell_type": "markdown",
      "metadata": {
        "id": "1VUVFi2bfOKa"
      },
      "source": [
        "If we list all the natural numbers below 10 that are multiples of 3 or 5, we get 3, 5, 6 and 9. The sum of these multiples is 23.\r\n",
        "\r\n",
        "Finish the solution so that it returns the sum of all the multiples of 3 or 5 below the number passed in.\r\n",
        "\r\n",
        "Note: If the number is a multiple of both 3 and 5, only count it once. Also, if a number is negative, return 0(for languages that do have them)\r\n",
        "\r\n",
        "Courtesy of projecteuler.net"
      ]
    },
    {
      "cell_type": "code",
      "metadata": {
        "colab": {
          "base_uri": "https://localhost:8080/"
        },
        "id": "H6eyp9ELfNJk",
        "outputId": "581d09b8-4913-41d9-aed7-ecf2d8e33db1"
      },
      "source": [
        "def solution(number):\r\n",
        "    count=0\r\n",
        "    for z in range (number):\r\n",
        "        if z%3==0 or z%5==0:\r\n",
        "            count=count+z\r\n",
        "        z=z+1\r\n",
        "    return count   \r\n",
        "print(solution (10))    "
      ],
      "execution_count": 2,
      "outputs": [
        {
          "output_type": "stream",
          "text": [
            "23\n"
          ],
          "name": "stdout"
        }
      ]
    }
  ]
}