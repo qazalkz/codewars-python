{
  "nbformat": 4,
  "nbformat_minor": 0,
  "metadata": {
    "colab": {
      "name": "codewars.ipynb",
      "provenance": [],
      "authorship_tag": "ABX9TyNuB8rFMHtKOxZOP864UCaQ",
      "include_colab_link": true
    },
    "kernelspec": {
      "name": "python3",
      "display_name": "Python 3"
    }
  },
  "cells": [
    {
      "cell_type": "markdown",
      "metadata": {
        "id": "view-in-github",
        "colab_type": "text"
      },
      "source": [
        "<a href=\"https://colab.research.google.com/github/qazalkz/codewars-python/blob/master/codewars.ipynb\" target=\"_parent\"><img src=\"https://colab.research.google.com/assets/colab-badge.svg\" alt=\"Open In Colab\"/></a>"
      ]
    },
    {
      "cell_type": "code",
      "metadata": {
        "colab": {
          "base_uri": "https://localhost:8080/"
        },
        "id": "U5q51gH7QML5",
        "outputId": "ac8a0ab4-a1c0-41ce-93e7-3cfef8f92f4d"
      },
      "source": [
        "s= 'hello hi salaam'\r\n",
        "p=s.split()\r\n",
        "print(p)"
      ],
      "execution_count": null,
      "outputs": [
        {
          "output_type": "stream",
          "text": [
            "['hello', 'hi', 'salaam']\n"
          ],
          "name": "stdout"
        }
      ]
    },
    {
      "cell_type": "code",
      "metadata": {
        "colab": {
          "base_uri": "https://localhost:8080/"
        },
        "id": "807GZxsmXbel",
        "outputId": "70e1c3db-4786-471e-f9cd-84f860960231"
      },
      "source": [
        "print(list(enumerate(p)))"
      ],
      "execution_count": null,
      "outputs": [
        {
          "output_type": "stream",
          "text": [
            "[(0, 'hello'), (1, 'hi'), (2, 'salaam')]\n"
          ],
          "name": "stdout"
        }
      ]
    },
    {
      "cell_type": "code",
      "metadata": {
        "colab": {
          "base_uri": "https://localhost:8080/"
        },
        "id": "dtUYT8rWZ-sa",
        "outputId": "86bc43a3-b40f-463a-ca71-caa352d2eccf"
      },
      "source": [
        "a=['ab','bcd','efgi']\r\n",
        "print(list(enumerate(a)))"
      ],
      "execution_count": null,
      "outputs": [
        {
          "output_type": "stream",
          "text": [
            "[(0, 'ab'), (1, 'bcd'), (2, 'efgi')]\n"
          ],
          "name": "stdout"
        }
      ]
    },
    {
      "cell_type": "code",
      "metadata": {
        "colab": {
          "base_uri": "https://localhost:8080/"
        },
        "id": "wKbc92vJQ4SG",
        "outputId": "dc80ce08-f206-4ff8-aa83-515a1533d57a"
      },
      "source": [
        "s= 'hello hi salaam'\r\n",
        "def rev (s):\r\n",
        "  p=s.split()\r\n",
        "  emp=[]\r\n",
        "  for i in p:\r\n",
        "\r\n",
        "   if (len(i)>=5):\r\n",
        "      emp.append(i[::-1])\r\n",
        "   else:\r\n",
        "     emp.append(i)\r\n",
        "  return ' '.join(emp)   \r\n",
        "\r\n",
        "print(rev(s))   \r\n"
      ],
      "execution_count": null,
      "outputs": [
        {
          "output_type": "stream",
          "text": [
            "olleh hi maalas\n"
          ],
          "name": "stdout"
        }
      ]
    },
    {
      "cell_type": "code",
      "metadata": {
        "colab": {
          "base_uri": "https://localhost:8080/"
        },
        "id": "f-KaF4axQ4XG",
        "outputId": "4d31e902-bc07-4503-bb9f-51a7a84bfe4b"
      },
      "source": [
        "def spin_words(sentence):\r\n",
        "    # Your code goes here\r\n",
        "    if len(sentence) == 0:\r\n",
        "        return None\r\n",
        "    words = sentence.split(\" \")\r\n",
        "    for wordindex,word in enumerate(words):\r\n",
        "        if len(word)>=5:\r\n",
        "            words[wordindex] = reverse(word)\r\n",
        "#     print words\r\n",
        "    return \" \".join(word for word in words)\r\n",
        "          \r\n",
        "    \r\n",
        "def reverse(word):\r\n",
        "  l = len(word)\r\n",
        "  res = \"\"\r\n",
        "  for index in range(1,l+1):\r\n",
        "      res += word[-index]\r\n",
        "#       print res\r\n",
        "  return res\r\n",
        "print(spin_words(s)) "
      ],
      "execution_count": null,
      "outputs": [
        {
          "output_type": "stream",
          "text": [
            "olleh hi maalas\n"
          ],
          "name": "stdout"
        }
      ]
    },
    {
      "cell_type": "code",
      "metadata": {
        "colab": {
          "base_uri": "https://localhost:8080/"
        },
        "id": "kJIYNYwFZGbr",
        "outputId": "db623e55-71ad-4228-cb77-6de7af97ef33"
      },
      "source": [
        "def spin_words(sentence):\r\n",
        "    # Your code goes here\r\n",
        "    arr = sentence.split()\r\n",
        "    ans = []\r\n",
        "    for i in arr:\r\n",
        "        if len(i) >= 5:\r\n",
        "            ans.append(i[::-1])\r\n",
        "        else:\r\n",
        "            ans.append(i)\r\n",
        "    return ' '.join(ans)\r\n",
        "\r\n",
        "\r\n",
        "print(spin_words(s))"
      ],
      "execution_count": null,
      "outputs": [
        {
          "output_type": "stream",
          "text": [
            "olleh hi maalas\n"
          ],
          "name": "stdout"
        }
      ]
    },
    {
      "cell_type": "code",
      "metadata": {
        "colab": {
          "base_uri": "https://localhost:8080/"
        },
        "id": "qkQhOYsRQ4Zm",
        "outputId": "4f610837-7197-42a8-e66a-b0b1c8dc9758"
      },
      "source": [
        "aa=[\"Mohammad\",\"Ali\",\"Hasan\",\"Hossein\"]\r\n",
        "for i,j in enumerate(aa,2):\r\n",
        "    print(i,j)"
      ],
      "execution_count": null,
      "outputs": [
        {
          "output_type": "stream",
          "text": [
            "2 Mohammad\n",
            "3 Ali\n",
            "4 Hasan\n",
            "5 Hossein\n"
          ],
          "name": "stdout"
        }
      ]
    },
    {
      "cell_type": "code",
      "metadata": {
        "colab": {
          "base_uri": "https://localhost:8080/"
        },
        "id": "EMUZ00dxQ4b8",
        "outputId": "2b37a1c5-6c50-4506-86b6-9b84d1bb584d"
      },
      "source": [
        "c=\"Koolac\"\r\n",
        "for i, v in enumerate(c):\r\n",
        "    print(\"{}) {}\".format(i,v*3))"
      ],
      "execution_count": null,
      "outputs": [
        {
          "output_type": "stream",
          "text": [
            "0) KKK\n",
            "1) ooo\n",
            "2) ooo\n",
            "3) lll\n",
            "4) aaa\n",
            "5) ccc\n"
          ],
          "name": "stdout"
        }
      ]
    },
    {
      "cell_type": "code",
      "metadata": {
        "colab": {
          "base_uri": "https://localhost:8080/"
        },
        "id": "B4mNkDuGchJx",
        "outputId": "ed49452e-14de-426b-c1ea-1d4e63ca82e4"
      },
      "source": [
        "[print(v*i) for i, v in enumerate(c,1)]"
      ],
      "execution_count": null,
      "outputs": [
        {
          "output_type": "stream",
          "text": [
            "K\n",
            "oo\n",
            "ooo\n",
            "llll\n",
            "aaaaa\n",
            "cccccc\n"
          ],
          "name": "stdout"
        },
        {
          "output_type": "execute_result",
          "data": {
            "text/plain": [
              "[None, None, None, None, None, None]"
            ]
          },
          "metadata": {
            "tags": []
          },
          "execution_count": 16
        }
      ]
    },
    {
      "cell_type": "markdown",
      "metadata": {
        "id": "o94ikfzug_sf"
      },
      "source": [
        "پس join میاد یه سری String رو که تووووی یک لیست/دیکشنری/تاپل/و… وجود دارند رو با یا چیزی که ما بهش میگیم رو به هم وصل میکنه! حالت کلّی زیر رو در نظر بگیرید!"
      ]
    },
    {
      "cell_type": "code",
      "metadata": {
        "colab": {
          "base_uri": "https://localhost:8080/"
        },
        "id": "Eq4ianT4c1Cs",
        "outputId": "4ae1e307-857f-4673-8ecc-7fc68c3614a3"
      },
      "source": [
        "a=(\"A\",\"B\",\"C\")\r\n",
        "b='*'.join(a)\r\n",
        "print(b)"
      ],
      "execution_count": null,
      "outputs": [
        {
          "output_type": "stream",
          "text": [
            "A*B*C\n"
          ],
          "name": "stdout"
        }
      ]
    },
    {
      "cell_type": "code",
      "metadata": {
        "colab": {
          "base_uri": "https://localhost:8080/"
        },
        "id": "F0VxUmOWc1K3",
        "outputId": "356c76fc-6c1f-4602-9a84-31369f273112"
      },
      "source": [
        "def spin_words(sentence):\r\n",
        "  p=sentence.split()\r\n",
        "  emp=[]\r\n",
        "  for i in p:\r\n",
        "\r\n",
        "   if (len(i)>=5):\r\n",
        "      emp.append(i[::-1])\r\n",
        "   else:\r\n",
        "     emp.append(i)\r\n",
        "  return ' '.join(emp) \r\n",
        "sentence= \"hi hello sallam welcome\"\r\n",
        "print(spin_words(sentence))   "
      ],
      "execution_count": null,
      "outputs": [
        {
          "output_type": "stream",
          "text": [
            "hi olleh mallas emoclew\n"
          ],
          "name": "stdout"
        }
      ]
    },
    {
      "cell_type": "code",
      "metadata": {
        "colab": {
          "base_uri": "https://localhost:8080/"
        },
        "id": "DgKlYqdDc1Nv",
        "outputId": "19b8f1e6-a2e1-425d-f430-5c7224fcc929"
      },
      "source": [
        "def spin_words(sentence):\r\n",
        "    # Your code goes here\r\n",
        "    return \" \".join([x[::-1] if len(x) >= 5 else x for x in sentence.split(\" \")])\r\n",
        "sentence= \"hi hello sallam welcome\"\r\n",
        "print(spin_words(sentence)) "
      ],
      "execution_count": null,
      "outputs": [
        {
          "output_type": "stream",
          "text": [
            "hi olleh mallas emoclew\n"
          ],
          "name": "stdout"
        }
      ]
    },
    {
      "cell_type": "markdown",
      "metadata": {
        "id": "K3lCx4AWF7NQ"
      },
      "source": [
        "persistence(39) => 3  # Because 3*9 = 27, 2*7 = 14, 1*4=4\r\n",
        "                       # and 4 has only one digit.\r\n",
        "\r\n",
        "persistence(999) => 4 # Because 9*9*9 = 729, 7*2*9 = 126,\r\n",
        "                       # 1*2*6 = 12, and finally 1*2 = 2.\r\n",
        "\r\n",
        "persistence(4) => 0   # Because 4 is already a one-digit number."
      ]
    },
    {
      "cell_type": "code",
      "metadata": {
        "id": "uljjx_BSc1Pw"
      },
      "source": [
        "def persistence(n):\r\n",
        "  "
      ],
      "execution_count": null,
      "outputs": []
    },
    {
      "cell_type": "code",
      "metadata": {
        "colab": {
          "base_uri": "https://localhost:8080/"
        },
        "id": "1pvbZEwvGqGD",
        "outputId": "f4b19f0f-b6c1-402e-c1f1-07a5f5f95c5c"
      },
      "source": [
        "def persistance(num):\r\n",
        "    counter=0\r\n",
        "    while num>9:\r\n",
        "        counter+=1\r\n",
        "        num_str=str(num)\r\n",
        "        total=1\r\n",
        "        for i in num_str:\r\n",
        "            total=total* int(i)\r\n",
        "        num=total\r\n",
        "    print(counter)\r\n",
        "print(persistance(39))   "
      ],
      "execution_count": 1,
      "outputs": [
        {
          "output_type": "stream",
          "text": [
            "3\n",
            "None\n"
          ],
          "name": "stdout"
        }
      ]
    },
    {
      "cell_type": "code",
      "metadata": {
        "colab": {
          "base_uri": "https://localhost:8080/"
        },
        "id": "cXaGIBVTG-Pa",
        "outputId": "7e29092f-6e2f-49e4-a04d-c75c0fbe8c46"
      },
      "source": [
        "def persistencee(num):\r\n",
        "    if num < 10:\r\n",
        "        return 0 # Only one digit. Can't iterate over it\r\n",
        "    num_str = str(num)\r\n",
        "    total = 1\r\n",
        "    for i in num_str:\r\n",
        "        total = total * int(i)\r\n",
        "    return 1 + persistencee(total)\r\n",
        "print(persistencee(39))    "
      ],
      "execution_count": 3,
      "outputs": [
        {
          "output_type": "stream",
          "text": [
            "3\n"
          ],
          "name": "stdout"
        }
      ]
    }
  ]
}