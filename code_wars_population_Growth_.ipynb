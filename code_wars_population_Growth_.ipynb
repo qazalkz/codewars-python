{
  "nbformat": 4,
  "nbformat_minor": 0,
  "metadata": {
    "colab": {
      "name": "code wars population Growth .ipynb",
      "provenance": [],
      "authorship_tag": "ABX9TyNUE0YIYaE1KzLfxtePx4+1",
      "include_colab_link": true
    },
    "kernelspec": {
      "name": "python3",
      "display_name": "Python 3"
    }
  },
  "cells": [
    {
      "cell_type": "markdown",
      "metadata": {
        "id": "view-in-github",
        "colab_type": "text"
      },
      "source": [
        "<a href=\"https://colab.research.google.com/github/qazalkz/codewars-python/blob/master/code_wars_population_Growth_.ipynb\" target=\"_parent\"><img src=\"https://colab.research.google.com/assets/colab-badge.svg\" alt=\"Open In Colab\"/></a>"
      ]
    },
    {
      "cell_type": "markdown",
      "metadata": {
        "id": "e19ThU3VdAZ5"
      },
      "source": [
        "In a small town the population is p0 = 1000 at the beginning of a year. The population regularly increases by 2 percent per year and moreover 50 new inhabitants per year come to live in the town. How many years does the town need to see its population greater or equal to p = 1200 inhabitants?\r\n",
        "\r\n",
        "At the end of the first year there will be: \r\n",
        "1000 + 1000 * 0.02 + 50 => 1070 inhabitants\r\n",
        "\r\n",
        "At the end of the 2nd year there will be: \r\n",
        "1070 + 1070 * 0.02 + 50 => 1141 inhabitants (number of inhabitants is an integer)\r\n",
        "\r\n",
        "At the end of the 3rd year there will be:\r\n",
        "1141 + 1141 * 0.02 + 50 => 1213\r\n",
        "\r\n",
        "It will need 3 entire years.\r\n",
        "p0, percent, aug (inhabitants coming or leaving each year), p (population to surpass)\r\n",
        "\r\n",
        "the function nb_year should return n number of entire years needed to get a population greater or equal to p.\r\n",
        "\r\n",
        "aug is an integer, percent a positive or null floating number, p0 and p are positive integers (> 0)\r\n",
        "Examples:\r\n",
        "nb_year(1500, 5, 100, 5000) -> 15\r\n",
        "nb_year(1500000, 2.5, 10000, 2000000) -> 10"
      ]
    },
    {
      "cell_type": "code",
      "metadata": {
        "colab": {
          "base_uri": "https://localhost:8080/"
        },
        "id": "r0I_q0NmyWUu",
        "outputId": "ef129f84-b616-4781-ab96-b769bff8b8ce"
      },
      "source": [
        "def nb_year(p0, percent, aug, p): #**mine**\r\n",
        "    # your code\r\n",
        "    #(p0=1000, precent=0.02 , agu=50 , p=1200)\r\n",
        "    #p0+(p0*0.02)+50 while p>=1200\r\n",
        "    count=1\r\n",
        "    percent=percent/100\r\n",
        "    while p0<p:\r\n",
        "         a=(p0*percent)+aug\r\n",
        "         p0=p0+a\r\n",
        "         #print(p0)\r\n",
        "         if p0<p:\r\n",
        "            count+=1\r\n",
        "    return count   \r\n",
        "\r\n",
        "    \r\n",
        "print(nb_year(1500, 5, 100, 5000))    \r\n"
      ],
      "execution_count": 16,
      "outputs": [
        {
          "output_type": "stream",
          "text": [
            "15\n"
          ],
          "name": "stdout"
        }
      ]
    },
    {
      "cell_type": "markdown",
      "metadata": {
        "id": "XYbRfQ7Yd87_"
      },
      "source": [
        "//mine//"
      ]
    },
    {
      "cell_type": "code",
      "metadata": {
        "colab": {
          "base_uri": "https://localhost:8080/"
        },
        "id": "tHOEMSX1zk5e",
        "outputId": "34ff2c85-df52-42f4-f86e-02d34bfab4e5"
      },
      "source": [
        "def nb_year(p0, percent, aug, p):\r\n",
        "    # your code\r\n",
        "    #(p0=1000, precent=0.02 , agu=50 , p=1200)\r\n",
        "    #p0+(p0*0.02)+50 while p>=1200\r\n",
        "    count=1\r\n",
        "    percent=percent/100\r\n",
        "    if p0>=p:\r\n",
        "      count=0  \r\n",
        "    while p0<p:\r\n",
        "         a=(p0*percent)+aug\r\n",
        "         p0=p0+a\r\n",
        "         #print(p0)\r\n",
        "         if p0<p:\r\n",
        "            count+=1\r\n",
        "  \r\n",
        "           \r\n",
        "    return count   \r\n",
        "\r\n",
        "    \r\n",
        "print(nb_year(200000, 0.25, 1000, 2000000)) "
      ],
      "execution_count": 43,
      "outputs": [
        {
          "output_type": "stream",
          "text": [
            "556\n"
          ],
          "name": "stdout"
        }
      ]
    },
    {
      "cell_type": "markdown",
      "metadata": {
        "id": "YpQFmzIpd1zg"
      },
      "source": [
        "__web__"
      ]
    },
    {
      "cell_type": "code",
      "metadata": {
        "colab": {
          "base_uri": "https://localhost:8080/"
        },
        "id": "eMHhxdqa4126",
        "outputId": "023e834e-f45d-48dd-cfb2-a40a844b2822"
      },
      "source": [
        "  \r\n",
        "def nb_year(p0, percent, aug, p, count = 0):\r\n",
        "    if (p0 >= p):\r\n",
        "        return count\r\n",
        "    else:\r\n",
        "        count += 1\r\n",
        "        pop = p0 + p0 * (percent/100) + aug\r\n",
        "        return nb_year(pop, percent, aug, p, count)\r\n",
        "\r\n",
        "\r\n",
        "print(\"First\", nb_year(1500, 5, 100, 5000))"
      ],
      "execution_count": 44,
      "outputs": [
        {
          "output_type": "stream",
          "text": [
            "First 15\n"
          ],
          "name": "stdout"
        }
      ]
    },
    {
      "cell_type": "markdown",
      "metadata": {
        "id": "HnnbVlZ1dxEO"
      },
      "source": [
        "**mine**"
      ]
    },
    {
      "cell_type": "code",
      "metadata": {
        "colab": {
          "base_uri": "https://localhost:8080/"
        },
        "id": "v3pMcDwC-WOw",
        "outputId": "b402f34f-5852-4d42-8d71-c4981db9e575"
      },
      "source": [
        "def nb_year(p0, percent, aug, p):\r\n",
        "    # your code\r\n",
        "    #(p0=1000, precent=0.02 , agu=50 , p=1200)\r\n",
        "    #p0+(p0*0.02)+50 while p>=1200\r\n",
        "    count=0\r\n",
        "    percent=percent/100\r\n",
        "    if p0>=p:\r\n",
        "      return count  \r\n",
        "    while p0<p:\r\n",
        "         a=(p0*percent)+aug\r\n",
        "         p0=p0+a\r\n",
        "         count+=1\r\n",
        "  \r\n",
        "           \r\n",
        "    return count   \r\n",
        "print(nb_year(1500, 5, 100, 5000)) "
      ],
      "execution_count": 51,
      "outputs": [
        {
          "output_type": "stream",
          "text": [
            "15\n"
          ],
          "name": "stdout"
        }
      ]
    }
  ]
}